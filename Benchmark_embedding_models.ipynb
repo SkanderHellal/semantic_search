{
 "cells": [
  {
   "cell_type": "markdown",
   "id": "7acb64de",
   "metadata": {},
   "source": [
    "### Benchmark Embedding models\n",
    "The purpose of this notebook is to benchmark the embedding models on **french dataset FQUAD**.\n",
    "\n",
    "In fact, embeddings are the main part of semantic search especially when dealing with question answering.\n",
    "\n",
    "It's applications can be extended to RAG `Retrieval Augmentated Generation`.\n",
    "\n",
    "In this notebook we propose to:\n",
    "* Benchmark models mainly `multi-qa-mpnet-base-dot-v1` and `distiluse-base-multilingual-cased-v1`\n",
    "* Finetune `CamemBert` model on **FQUAD** dataset\n",
    "* Compare the different results obtained\n",
    "* Analyse the strenghes and weaknesses of each model\n",
    "\n",
    "Without further ado, let's start &#x1F64F;"
   ]
  },
  {
   "cell_type": "markdown",
   "id": "9f6e6e2c",
   "metadata": {},
   "source": [
    "#### Model Benchmarking"
   ]
  },
  {
   "cell_type": "code",
   "execution_count": 1,
   "id": "566d8ce6",
   "metadata": {},
   "outputs": [],
   "source": [
    "import pandas as pd\n",
    "import torch\n",
    "from datasets import load_dataset\n",
    "from pathlib import Path\n",
    "from sentence_transformers import SentenceTransformer\n",
    "from sentence_transformers.evaluation import InformationRetrievalEvaluator\n",
    "from tqdm import tqdm"
   ]
  },
  {
   "cell_type": "code",
   "execution_count": 2,
   "id": "5758c9e7",
   "metadata": {},
   "outputs": [],
   "source": [
    "class QuestionAnsweringEmbeddingInference:\n",
    "    def __init__(self, model_name_or_path, dataset_name_or_path):\n",
    "        self.model_name_or_path = model_name_or_path\n",
    "        self.dataset_name_or_path = dataset_name_or_path\n",
    "        \n",
    "    def _load_model(self):\n",
    "        model = SentenceTransformer(self.model_name_or_path)\n",
    "        return model\n",
    "    \n",
    "    def _transform_data(self):\n",
    "        dataset = load_dataset(\"json\", self.dataset_name_or_path, field=\"data\", split='train+validation')\n",
    "        \n",
    "        # Transform dataset to dataframe\n",
    "        df_dict = {\n",
    "            \"question\": [],\n",
    "            \"context\": [],\n",
    "            \"id\": []\n",
    "        }\n",
    "        \n",
    "        print(dataset)\n",
    "        for row in tqdm(dataset):\n",
    "            for paragraph in dataset[\"paragraphs\"]:\n",
    "                paragraph = paragraph[0]\n",
    "                for question in paragraph[\"qas\"]:\n",
    "                    df_dict[\"question\"].append(question[\"question\"])\n",
    "                    df_dict[\"context\"].append(paragraph[\"context\"])\n",
    "                    df_dict[\"id\"].append(question[\"id\"])\n",
    "            \n",
    "        df = pd.DataFrame(df_dict) \n",
    "        \n",
    "        # Extract no duplicates\n",
    "        no_duplicates = df.drop_duplicates(\n",
    "            subset=\"context\",\n",
    "            keep=\"first\"\n",
    "        )\n",
    "        no_duplicates.drop(columns=[\"question\"], inplace=True)\n",
    "        no_duplicates[\"id\"] = no_duplicates[\"id\"].apply(\n",
    "            lambda x: x+\"con\"\n",
    "        )\n",
    "        \n",
    "        # Merge dataset\n",
    "        df = df.merge(no_duplicates, how=\"inner\", on=\"context\")\n",
    "        \n",
    "        # Construct retrieval queries\n",
    "        ir_queries = {\n",
    "            row['id_x']: row['question'] for i, row in df.iterrows()\n",
    "        }\n",
    "        \n",
    "        # Construct retrieval contexts\n",
    "        ir_corpus = {\n",
    "            row['id_y']: row['context'] for i, row in df.iterrows()\n",
    "        }\n",
    "        \n",
    "        ir_relevant_docs = {key: [] for key in df['id_x'].unique()}\n",
    "        for i, row in df.iterrows():\n",
    "            ir_relevant_docs[row['id_x']].append(row['id_y'])\n",
    "        ir_relevant_docs = {key: set(values) for key, values in ir_relevant_docs.items()}\n",
    "            \n",
    "        return ir_queries, ir_corpus, ir_relevant_docs\n",
    "    \n",
    "    def evaluate(self):\n",
    "        \n",
    "        ir_queries, ir_corpus, ir_relevant_docs = self._transform_data()\n",
    "        ir_eval = InformationRetrievalEvaluator(\n",
    "            ir_queries, ir_corpus, ir_relevant_docs\n",
    "        )\n",
    "        \n",
    "        # Load the model\n",
    "        model = self._load_model()\n",
    "        \n",
    "        return ir_eval(model)"
   ]
  },
  {
   "cell_type": "code",
   "execution_count": 3,
   "id": "de2ed26e",
   "metadata": {},
   "outputs": [
    {
     "name": "stderr",
     "output_type": "stream",
     "text": [
      "Found cached dataset json (C:/Users/hella/.cache/huggingface/datasets/json/valid.json-a66e53f4fc1fb90c/0.0.0/0f7e3662623656454fcd2b650f34e886a7db4b9104504885bd462096cc7a9f51)\n"
     ]
    },
    {
     "name": "stdout",
     "output_type": "stream",
     "text": [
      "Dataset({\n",
      "    features: ['paragraphs', 'title'],\n",
      "    num_rows: 135\n",
      "})\n"
     ]
    },
    {
     "name": "stderr",
     "output_type": "stream",
     "text": [
      "100%|████████████████████████████████████████████████████████████████████████████████| 135/135 [01:11<00:00,  1.90it/s]\n",
      "C:\\Users\\hella\\AppData\\Local\\Temp\\ipykernel_22860\\388438394.py:36: SettingWithCopyWarning: \n",
      "A value is trying to be set on a copy of a slice from a DataFrame\n",
      "\n",
      "See the caveats in the documentation: https://pandas.pydata.org/pandas-docs/stable/user_guide/indexing.html#returning-a-view-versus-a-copy\n",
      "  no_duplicates.drop(columns=[\"question\"], inplace=True)\n",
      "C:\\Users\\hella\\AppData\\Local\\Temp\\ipykernel_22860\\388438394.py:37: SettingWithCopyWarning: \n",
      "A value is trying to be set on a copy of a slice from a DataFrame.\n",
      "Try using .loc[row_indexer,col_indexer] = value instead\n",
      "\n",
      "See the caveats in the documentation: https://pandas.pydata.org/pandas-docs/stable/user_guide/indexing.html#returning-a-view-versus-a-copy\n",
      "  no_duplicates[\"id\"] = no_duplicates[\"id\"].apply(\n",
      "Found cached dataset json (C:/Users/hella/.cache/huggingface/datasets/json/valid.json-a66e53f4fc1fb90c/0.0.0/0f7e3662623656454fcd2b650f34e886a7db4b9104504885bd462096cc7a9f51)\n"
     ]
    },
    {
     "name": "stdout",
     "output_type": "stream",
     "text": [
      "Dataset({\n",
      "    features: ['paragraphs', 'title'],\n",
      "    num_rows: 135\n",
      "})\n"
     ]
    },
    {
     "name": "stderr",
     "output_type": "stream",
     "text": [
      "100%|████████████████████████████████████████████████████████████████████████████████| 135/135 [01:08<00:00,  1.96it/s]\n",
      "C:\\Users\\hella\\AppData\\Local\\Temp\\ipykernel_22860\\388438394.py:36: SettingWithCopyWarning: \n",
      "A value is trying to be set on a copy of a slice from a DataFrame\n",
      "\n",
      "See the caveats in the documentation: https://pandas.pydata.org/pandas-docs/stable/user_guide/indexing.html#returning-a-view-versus-a-copy\n",
      "  no_duplicates.drop(columns=[\"question\"], inplace=True)\n",
      "C:\\Users\\hella\\AppData\\Local\\Temp\\ipykernel_22860\\388438394.py:37: SettingWithCopyWarning: \n",
      "A value is trying to be set on a copy of a slice from a DataFrame.\n",
      "Try using .loc[row_indexer,col_indexer] = value instead\n",
      "\n",
      "See the caveats in the documentation: https://pandas.pydata.org/pandas-docs/stable/user_guide/indexing.html#returning-a-view-versus-a-copy\n",
      "  no_duplicates[\"id\"] = no_duplicates[\"id\"].apply(\n"
     ]
    },
    {
     "data": {
      "application/vnd.jupyter.widget-view+json": {
       "model_id": "412fd696f36e429b810c0973830f42ce",
       "version_major": 2,
       "version_minor": 0
      },
      "text/plain": [
       "Downloading (…)\"pytorch_model.bin\";:   0%|          | 0.00/539M [00:00<?, ?B/s]"
      ]
     },
     "metadata": {},
     "output_type": "display_data"
    },
    {
     "data": {
      "application/vnd.jupyter.widget-view+json": {
       "model_id": "efec10ecc7a64554a221755a4f93f0ed",
       "version_major": 2,
       "version_minor": 0
      },
      "text/plain": [
       "Downloading (…)nce_bert_config.json:   0%|          | 0.00/53.0 [00:00<?, ?B/s]"
      ]
     },
     "metadata": {},
     "output_type": "display_data"
    },
    {
     "data": {
      "application/vnd.jupyter.widget-view+json": {
       "model_id": "35425c1420af40a1bd2baea1a3c9c677",
       "version_major": 2,
       "version_minor": 0
      },
      "text/plain": [
       "Downloading (…)cial_tokens_map.json:   0%|          | 0.00/112 [00:00<?, ?B/s]"
      ]
     },
     "metadata": {},
     "output_type": "display_data"
    },
    {
     "data": {
      "application/vnd.jupyter.widget-view+json": {
       "model_id": "9d00fbed7e28481e9f9b6952268bfad0",
       "version_major": 2,
       "version_minor": 0
      },
      "text/plain": [
       "Downloading (…)5f450/tokenizer.json:   0%|          | 0.00/1.96M [00:00<?, ?B/s]"
      ]
     },
     "metadata": {},
     "output_type": "display_data"
    },
    {
     "data": {
      "application/vnd.jupyter.widget-view+json": {
       "model_id": "6c6d12ed9bf84764b7d408bd5ba583b3",
       "version_major": 2,
       "version_minor": 0
      },
      "text/plain": [
       "Downloading (…)okenizer_config.json:   0%|          | 0.00/452 [00:00<?, ?B/s]"
      ]
     },
     "metadata": {},
     "output_type": "display_data"
    },
    {
     "data": {
      "application/vnd.jupyter.widget-view+json": {
       "model_id": "8a1fb01863364e83a993bc5ea0f19a05",
       "version_major": 2,
       "version_minor": 0
      },
      "text/plain": [
       "Downloading (…)966465f450/vocab.txt:   0%|          | 0.00/996k [00:00<?, ?B/s]"
      ]
     },
     "metadata": {},
     "output_type": "display_data"
    },
    {
     "data": {
      "application/vnd.jupyter.widget-view+json": {
       "model_id": "df9519d63b2a4d38b288891dce7cb148",
       "version_major": 2,
       "version_minor": 0
      },
      "text/plain": [
       "Downloading (…)465f450/modules.json:   0%|          | 0.00/341 [00:00<?, ?B/s]"
      ]
     },
     "metadata": {},
     "output_type": "display_data"
    }
   ],
   "source": [
    "models = [\"multi-qa-mpnet-base-dot-v1\", \"distiluse-base-multilingual-cased-v1\"]\n",
    "dataset_name_or_path = 'valid.json'\n",
    "\n",
    "model_results = {}\n",
    "for model in models:\n",
    "    \n",
    "    qa_embbeding_inference = QuestionAnsweringEmbeddingInference(\n",
    "        model_name_or_path=model,\n",
    "        dataset_name_or_path=dataset_name_or_path\n",
    "    )\n",
    "    \n",
    "    score = qa_embbeding_inference.evaluate()\n",
    "    \n",
    "    model_results[model] = score"
   ]
  },
  {
   "cell_type": "code",
   "execution_count": 4,
   "id": "dd0e0c84",
   "metadata": {},
   "outputs": [
    {
     "name": "stdout",
     "output_type": "stream",
     "text": [
      "model: multi-qa-mpnet-base-dot-v1, score: 0.7924400322463055\n",
      "model: distiluse-base-multilingual-cased-v1, score: 0.8452430164472748\n"
     ]
    }
   ],
   "source": [
    "for model, score in model_results.items():\n",
    "    print(f\"model: {model}, score: {score}\")"
   ]
  }
 ],
 "metadata": {
  "kernelspec": {
   "display_name": "Python 3 (ipykernel)",
   "language": "python",
   "name": "python3"
  },
  "language_info": {
   "codemirror_mode": {
    "name": "ipython",
    "version": 3
   },
   "file_extension": ".py",
   "mimetype": "text/x-python",
   "name": "python",
   "nbconvert_exporter": "python",
   "pygments_lexer": "ipython3",
   "version": "3.9.13"
  }
 },
 "nbformat": 4,
 "nbformat_minor": 5
}
